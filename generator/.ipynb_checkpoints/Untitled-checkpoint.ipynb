{
 "cells": [
  {
   "cell_type": "code",
   "execution_count": 41,
   "id": "f19cf12e-06ef-49df-8e4f-e57bb768347e",
   "metadata": {},
   "outputs": [
    {
     "ename": "UserSettingsException",
     "evalue": "attempting to set a value to a path that does not exist: C:\\Program Files\\MuseScore 4\bin\\MuseScore4.exe",
     "output_type": "error",
     "traceback": [
      "\u001b[1;31m---------------------------------------------------------------------------\u001b[0m",
      "\u001b[1;31mUserSettingsException\u001b[0m                     Traceback (most recent call last)",
      "Cell \u001b[1;32mIn[42], line 4\u001b[0m\n\u001b[0;32m      1\u001b[0m \u001b[38;5;28;01mfrom\u001b[39;00m \u001b[38;5;21;01mmusic21\u001b[39;00m \u001b[38;5;28;01mimport\u001b[39;00m note, stream\n\u001b[0;32m      2\u001b[0m \u001b[38;5;28;01mfrom\u001b[39;00m \u001b[38;5;21;01mmusic21\u001b[39;00m \u001b[38;5;28;01mimport\u001b[39;00m environment\n\u001b[1;32m----> 4\u001b[0m \u001b[43menvironment\u001b[49m\u001b[38;5;241;43m.\u001b[39;49m\u001b[43mset\u001b[49m\u001b[43m(\u001b[49m\u001b[38;5;124;43m\"\u001b[39;49m\u001b[38;5;124;43mmusescoreDirectPNGPath\u001b[39;49m\u001b[38;5;124;43m\"\u001b[39;49m\u001b[43m,\u001b[49m\u001b[43m \u001b[49m\u001b[38;5;124;43m\"\u001b[39;49m\u001b[38;5;124;43mC:\u001b[39;49m\u001b[38;5;124;43m\\\u001b[39;49m\u001b[38;5;124;43mProgram Files\u001b[39;49m\u001b[38;5;124;43m\\\u001b[39;49m\u001b[38;5;124;43mMuseScore 4\u001b[39;49m\u001b[38;5;130;43;01m\\b\u001b[39;49;00m\u001b[38;5;124;43min\u001b[39;49m\u001b[38;5;124;43m\\\u001b[39;49m\u001b[38;5;124;43mMuseScore4.exe\u001b[39;49m\u001b[38;5;124;43m\"\u001b[39;49m\u001b[43m)\u001b[49m\n\u001b[0;32m      6\u001b[0m \u001b[38;5;66;03m# Crear una nota\u001b[39;00m\n\u001b[0;32m      7\u001b[0m n \u001b[38;5;241m=\u001b[39m note\u001b[38;5;241m.\u001b[39mNote(\u001b[38;5;124m\"\u001b[39m\u001b[38;5;124mA4\u001b[39m\u001b[38;5;124m\"\u001b[39m)\n",
      "File \u001b[1;32m~\\anaconda3\\envs\\lofi_music_generator\\lib\\site-packages\\music21\\environment.py:1402\u001b[0m, in \u001b[0;36mset\u001b[1;34m(key, value)\u001b[0m\n\u001b[0;32m   1400\u001b[0m \u001b[38;5;28;01mexcept\u001b[39;00m UserSettingsException:\n\u001b[0;32m   1401\u001b[0m     \u001b[38;5;28;01mpass\u001b[39;00m  \u001b[38;5;66;03m# this means it already exists\u001b[39;00m\n\u001b[1;32m-> 1402\u001b[0m us[key] \u001b[38;5;241m=\u001b[39m value\n",
      "File \u001b[1;32m~\\anaconda3\\envs\\lofi_music_generator\\lib\\site-packages\\music21\\environment.py:1301\u001b[0m, in \u001b[0;36mUserSettings.__setitem__\u001b[1;34m(self, key, value)\u001b[0m\n\u001b[0;32m   1299\u001b[0m         value \u001b[38;5;241m=\u001b[39m common\u001b[38;5;241m.\u001b[39mcleanpath(value, returnPathlib\u001b[38;5;241m=\u001b[39m\u001b[38;5;28;01mFalse\u001b[39;00m)\n\u001b[0;32m   1300\u001b[0m         \u001b[38;5;28;01mif\u001b[39;00m \u001b[38;5;129;01mnot\u001b[39;00m os\u001b[38;5;241m.\u001b[39mpath\u001b[38;5;241m.\u001b[39mexists(value):\n\u001b[1;32m-> 1301\u001b[0m             \u001b[38;5;28;01mraise\u001b[39;00m UserSettingsException(\n\u001b[0;32m   1302\u001b[0m                 \u001b[38;5;124mf\u001b[39m\u001b[38;5;124m'\u001b[39m\u001b[38;5;124mattempting to set a value to a path that does not exist: \u001b[39m\u001b[38;5;132;01m{\u001b[39;00mvalue\u001b[38;5;132;01m}\u001b[39;00m\u001b[38;5;124m'\u001b[39m)\n\u001b[0;32m   1303\u001b[0m \u001b[38;5;66;03m# when setting a local corpus setting, if not a list, append\u001b[39;00m\n\u001b[0;32m   1304\u001b[0m \u001b[38;5;28;01melif\u001b[39;00m key \u001b[38;5;241m==\u001b[39m \u001b[38;5;124m'\u001b[39m\u001b[38;5;124mlocalCorpusSettings\u001b[39m\u001b[38;5;124m'\u001b[39m:\n",
      "\u001b[1;31mUserSettingsException\u001b[0m: attempting to set a value to a path that does not exist: C:\\Program Files\\MuseScore 4\bin\\MuseScore4.exe"
     ]
    }
   ],
   "source": [
    "from music21 import note, stream\n",
    "from music21 import environment\n",
    "\n",
    "environment.set(\"musescoreDirectPNGPath\", \"C:\\Program Files\\MuseScore 4\\bin\\MuseScore4.exe\")\n",
    "\n",
    "# Crear una nota\n",
    "n = note.Note(\"A4\")\n",
    "\n",
    "# Crear un stream\n",
    "s = stream.Stream()\n",
    "\n",
    "# Añadir la nota al stream\n",
    "s.append(n)\n",
    "\n",
    "# Mostrar la nota\n",
    "s.show()\n"
   ]
  },
  {
   "cell_type": "code",
   "execution_count": null,
   "id": "51f49d05-149e-42ba-9daf-bffde1c1da2a",
   "metadata": {},
   "outputs": [],
   "source": []
  }
 ],
 "metadata": {
  "kernelspec": {
   "display_name": "Python 3 (ipykernel)",
   "language": "python",
   "name": "python3"
  },
  "language_info": {
   "codemirror_mode": {
    "name": "ipython",
    "version": 3
   },
   "file_extension": ".py",
   "mimetype": "text/x-python",
   "name": "python",
   "nbconvert_exporter": "python",
   "pygments_lexer": "ipython3",
   "version": "3.8.18"
  }
 },
 "nbformat": 4,
 "nbformat_minor": 5
}
